{
  "nbformat": 4,
  "nbformat_minor": 0,
  "metadata": {
    "colab": {
      "name": "Untitled12.ipynb",
      "provenance": [],
      "private_outputs": true,
      "authorship_tag": "ABX9TyOTU/O8wLPryOl0jJAhKIkP",
      "include_colab_link": true
    },
    "kernelspec": {
      "name": "python2",
      "display_name": "Python 2"
    }
  },
  "cells": [
    {
      "cell_type": "markdown",
      "metadata": {
        "id": "view-in-github",
        "colab_type": "text"
      },
      "source": [
        "<a href=\"https://colab.research.google.com/github/BLOSSOM1994/KernelKmeans/blob/master/kernel-kmeans.ipynb\" target=\"_parent\"><img src=\"https://colab.research.google.com/assets/colab-badge.svg\" alt=\"Open In Colab\"/></a>"
      ]
    },
    {
      "cell_type": "code",
      "metadata": {
        "id": "qivSJd1Kq2bR",
        "colab_type": "code",
        "colab": {}
      },
      "source": [
        "!git clone 'https://github.com/rarezhang/Kmeans-and-Kernel-Kmeans.git'"
      ],
      "execution_count": 0,
      "outputs": []
    },
    {
      "cell_type": "code",
      "metadata": {
        "id": "gcjMQmcCsJFp",
        "colab_type": "code",
        "colab": {}
      },
      "source": [
        "from sys import exit"
      ],
      "execution_count": 0,
      "outputs": []
    },
    {
      "cell_type": "code",
      "metadata": {
        "id": "4Bkg1tQqrOiZ",
        "colab_type": "code",
        "colab": {}
      },
      "source": [
        "%run /content/Kmeans-and-Kernel-Kmeans/src/main_kernel_k_means.py /content/Kmeans-and-Kernel-Kmeans/data/self_test.data /content/Kmeans-and-Kernel-Kmeans/data/self_test.ground"
      ],
      "execution_count": 0,
      "outputs": []
    },
    {
      "cell_type": "code",
      "metadata": {
        "id": "_SudfUGOj28k",
        "colab_type": "code",
        "colab": {}
      },
      "source": [
        "%run /content/Kmeans-and-Kernel-Kmeans/src/main_k_means.py /content/Kmeans-and-Kernel-Kmeans/data/self_test.data /content/Kmeans-and-Kernel-Kmeans/data/self_test.ground"
      ],
      "execution_count": 0,
      "outputs": []
    },
    {
      "cell_type": "code",
      "metadata": {
        "id": "p9tX_1kqlpW0",
        "colab_type": "code",
        "colab": {}
      },
      "source": [
        "from google.colab import drive\n",
        "drive.mount('/content/drive')"
      ],
      "execution_count": 0,
      "outputs": []
    }
  ]
}